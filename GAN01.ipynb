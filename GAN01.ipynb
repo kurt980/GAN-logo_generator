{
  "nbformat": 4,
  "nbformat_minor": 0,
  "metadata": {
    "colab": {
      "provenance": [],
      "authorship_tag": "ABX9TyPhb0+P0584aClUnwhpShnX",
      "include_colab_link": true
    },
    "kernelspec": {
      "name": "python3",
      "display_name": "Python 3"
    },
    "language_info": {
      "name": "python"
    }
  },
  "cells": [
    {
      "cell_type": "markdown",
      "metadata": {
        "id": "view-in-github",
        "colab_type": "text"
      },
      "source": [
        "<a href=\"https://colab.research.google.com/github/kurt980/GAN01/blob/main/GAN01.ipynb\" target=\"_parent\"><img src=\"https://colab.research.google.com/assets/colab-badge.svg\" alt=\"Open In Colab\"/></a>"
      ]
    },
    {
      "cell_type": "code",
      "execution_count": 395,
      "metadata": {
        "id": "HNJjfFsEp9t2"
      },
      "outputs": [],
      "source": [
        "import os\n",
        "from torch.utils.data import DataLoader\n",
        "import torch\n",
        "import torchvision\n",
        "from matplotlib.pyplot import imshow\n",
        "from torchvision.io import read_image\n",
        "import torchvision.transforms as T\n",
        "from torchvision import datasets, transforms\n",
        "import PIL\n",
        "import numpy as np\n",
        "from matplotlib import image as img\n",
        "%matplotlib inline\n",
        "from matplotlib import pyplot as plt\n",
        "import pandas as pd\n",
        "from scipy.cluster.vq import whiten\n",
        "import sklearn\n",
        "from sklearn.cluster import KMeans"
      ]
    },
    {
      "cell_type": "code",
      "source": [
        "# create the color palette\n",
        "color_list = {'White':[255,255,255],\n",
        "              'Grey':[128,128,128],'Blue':[0,0,254],'Brown':[150,75,0],'Red':[255,0,0],'Black':[0,0,0],'Green':[0,255,0],'Cyan':[64,244,208],'Purple':[134,1,175],'Orange':[255,165,0],'Yellow':[255,255,0],'Pink':[255,105,180]}\n",
        "\n",
        "color_list.update((key, [x / 255 for x in value]) for key, value in color_list.items())"
      ],
      "metadata": {
        "id": "1hz4QqjDqNMp"
      },
      "execution_count": 396,
      "outputs": []
    },
    {
      "cell_type": "code",
      "source": [
        "def get_color(label_count):\n",
        "\n",
        "  for i in range(0,9):\n",
        "    # get most frequent lebels and the center of that cluster\n",
        "    most_label = label_count.idxmax()[0]\n",
        "    most_center = centers[most_label]\n",
        "\n",
        "    label = compare_color(most_center)\n",
        "    # print(most_center,label)\n",
        "    if label != 'White':\n",
        "      break\n",
        "    else:\n",
        "      label_count = label_count[1:]\n",
        "\n",
        "  return(label)"
      ],
      "metadata": {
        "id": "8c5Xvngjs_8C"
      },
      "execution_count": 397,
      "outputs": []
    },
    {
      "cell_type": "code",
      "source": [
        "def compare_color(center):\n",
        "  min = 2\n",
        "  for i,key in enumerate(color_list):\n",
        "\n",
        "    dist = np.linalg.norm(np.subtract(color_list.get(key),center))\n",
        "    if dist < min:\n",
        "      min = dist\n",
        "      col_lab = key\n",
        "    \n",
        "  return col_lab"
      ],
      "metadata": {
        "id": "X8jJvhhbs_-I"
      },
      "execution_count": 398,
      "outputs": []
    },
    {
      "cell_type": "code",
      "source": [
        "# get image\n",
        "image = img.imread('/content/sample_data/logo_data/001072.png')\n",
        "\n",
        "# create dataset for pixels\n",
        "r = []\n",
        "g = []\n",
        "b = []\n",
        "for line in image:\n",
        "  for pixel in line:\n",
        "    temp_r, temp_g, temp_b = pixel\n",
        "    r.append(temp_r)\n",
        "    g.append(temp_g)\n",
        "    b.append(temp_b)\n",
        "\n",
        "df = pd.DataFrame({'red': r,'green': g,'blue': b})\n",
        "\n",
        "# get scaled for K means (Useless?)\n",
        "df_scaled = pd.DataFrame({'scaled_red':[],'scaled_blue':[],'scaled_green':[]})\n",
        "df_scaled['scaled_red'] = whiten(df['red'])\n",
        "df_scaled['scaled_green'] = whiten(df['green'])\n",
        "df_scaled['scaled_blue'] = whiten(df['blue'])\n",
        "\n",
        "# K Means cluster\n",
        "kmeans = KMeans(n_clusters=9, random_state=0).fit(df)\n",
        "\n",
        "# get cluster centers\n",
        "centers = kmeans.cluster_centers_\n",
        "\n",
        "# get dominant colors\n",
        "label_count = pd.DataFrame(kmeans.labels_).value_counts()\n",
        "\n",
        "# return most dominant(if white, skip)\n",
        "get_color(label_count)"
      ],
      "metadata": {
        "id": "yPay9teg2ku2",
        "colab": {
          "base_uri": "https://localhost:8080/",
          "height": 36
        },
        "outputId": "91d80f52-865e-4d7e-f130-d0758fd1dc94"
      },
      "execution_count": 399,
      "outputs": [
        {
          "output_type": "execute_result",
          "data": {
            "text/plain": [
              "'Green'"
            ],
            "application/vnd.google.colaboratory.intrinsic+json": {
              "type": "string"
            }
          },
          "metadata": {},
          "execution_count": 399
        }
      ]
    },
    {
      "cell_type": "code",
      "source": [
        "# color of all 9 clusters\n",
        "plt.imshow([centers])"
      ],
      "metadata": {
        "colab": {
          "base_uri": "https://localhost:8080/",
          "height": 106
        },
        "id": "gAaWubLvzFUL",
        "outputId": "06071c8d-a8ed-4d88-b295-15e02ea7bda9"
      },
      "execution_count": 400,
      "outputs": [
        {
          "output_type": "execute_result",
          "data": {
            "text/plain": [
              "<matplotlib.image.AxesImage at 0x7f48b6aade20>"
            ]
          },
          "metadata": {},
          "execution_count": 400
        },
        {
          "output_type": "display_data",
          "data": {
            "text/plain": [
              "<Figure size 432x288 with 1 Axes>"
            ],
            "image/png": "[encoded data removed]"
          },
          "metadata": {
            "needs_background": "light"
          }
        }
      ]
    },
    {
      "cell_type": "code",
      "source": [
        "plt.imshow(image)"
      ],
      "metadata": {
        "colab": {
          "base_uri": "https://localhost:8080/",
          "height": 283
        },
        "id": "ZNiL3Ur41igr",
        "outputId": "e08a52cf-67f5-4050-ed65-d542102792fb"
      },
      "execution_count": 403,
      "outputs": [
        {
          "output_type": "execute_result",
          "data": {
            "text/plain": [
              "<matplotlib.image.AxesImage at 0x7f48b6a19160>"
            ]
          },
          "metadata": {},
          "execution_count": 403
        },
        {
          "output_type": "display_data",
          "data": {
            "text/plain": [
              "<Figure size 432x288 with 1 Axes>"
            ],
            "image/png": "[encoded data removed]"
          },
          "metadata": {
            "needs_background": "light"
          }
        }
      ]
    },
    {
      "cell_type": "code",
      "source": [],
      "metadata": {
        "id": "87pM8pER1ijD"
      },
      "execution_count": null,
      "outputs": []
    },
    {
      "cell_type": "code",
      "source": [],
      "metadata": {
        "id": "llFxfD031ilc"
      },
      "execution_count": null,
      "outputs": []
    },
    {
      "cell_type": "code",
      "source": [],
      "metadata": {
        "id": "tBJyNnNs1inj"
      },
      "execution_count": null,
      "outputs": []
    },
    {
      "cell_type": "code",
      "source": [],
      "metadata": {
        "id": "NtTjNJzQ1ip4"
      },
      "execution_count": null,
      "outputs": []
    },
    {
      "cell_type": "code",
      "source": [],
      "metadata": {
        "id": "6ruvxHnR1isD"
      },
      "execution_count": null,
      "outputs": []
    },
    {
      "cell_type": "markdown",
      "source": [
        "还没做完"
      ],
      "metadata": {
        "id": "i8trYiSG1jXr"
      }
    },
    {
      "cell_type": "code",
      "source": [
        "get_color(label_count)"
      ],
      "metadata": {
        "colab": {
          "base_uri": "https://localhost:8080/",
          "height": 70
        },
        "id": "DtjsVDDStbwB",
        "outputId": "ded179b0-77c3-4cd6-bfb8-35caddab2874"
      },
      "execution_count": 346,
      "outputs": [
        {
          "output_type": "stream",
          "name": "stdout",
          "text": [
            "[0.9971243 0.9970794 0.9965732] White\n",
            "[0.9935449  0.6041657  0.12263751] Orange\n"
          ]
        },
        {
          "output_type": "execute_result",
          "data": {
            "text/plain": [
              "'Orange'"
            ],
            "application/vnd.google.colaboratory.intrinsic+json": {
              "type": "string"
            }
          },
          "metadata": {},
          "execution_count": 346
        }
      ]
    },
    {
      "cell_type": "code",
      "source": [
        "colors = []\n",
        "r_std, g_std, b_std = df[['red', 'green', 'blue']].std()\n",
        "for cluster_center in centers:\n",
        "  scaled_r, scaled_g, scaled_b = cluster_center\n",
        "  colors.append((\n",
        "  scaled_r * r_std,\n",
        "  scaled_g * g_std,\n",
        "  scaled_b * b_std\n",
        "  ))\n",
        "plt.imshow([colors])\n",
        "plt.show()"
      ],
      "metadata": {
        "colab": {
          "base_uri": "https://localhost:8080/",
          "height": 106
        },
        "id": "f0zGfpHN1Eyy",
        "outputId": "3defbc62-2071-4e9f-a493-1e680ecd7dfb"
      },
      "execution_count": 361,
      "outputs": [
        {
          "output_type": "stream",
          "name": "stderr",
          "text": [
            "WARNING:matplotlib.image:Clipping input data to the valid range for imshow with RGB data ([0..1] for floats or [0..255] for integers).\n"
          ]
        },
        {
          "output_type": "display_data",
          "data": {
            "text/plain": [
              "<Figure size 432x288 with 1 Axes>"
            ],
            "image/png": "[encoded data removed]"
          },
          "metadata": {
            "needs_background": "light"
          }
        }
      ]
    },
    {
      "cell_type": "code",
      "source": [
        "r_std, g_std, b_std"
      ],
      "metadata": {
        "colab": {
          "base_uri": "https://localhost:8080/"
        },
        "id": "dL0GOsfz1cO7",
        "outputId": "acdc93cc-0683-43a0-90ce-35e281b916f2"
      },
      "execution_count": 364,
      "outputs": [
        {
          "output_type": "execute_result",
          "data": {
            "text/plain": [
              "(0.3237084746360779, 0.30546897649765015, 0.39863067865371704)"
            ]
          },
          "metadata": {},
          "execution_count": 364
        }
      ]
    },
    {
      "cell_type": "code",
      "source": [
        "centers"
      ],
      "metadata": {
        "colab": {
          "base_uri": "https://localhost:8080/"
        },
        "id": "8EfFlF231E1L",
        "outputId": "09e3622d-861c-4569-dc30-52146389d093"
      },
      "execution_count": 363,
      "outputs": [
        {
          "output_type": "execute_result",
          "data": {
            "text/plain": [
              "array([[0.20795059, 0.17723393, 0.22431362],\n",
              "       [2.1420639 , 1.7294426 , 2.263779  ],\n",
              "       [3.0818055 , 2.4993134 , 3.264698  ],\n",
              "       [3.0707607 , 0.30779493, 1.9787968 ],\n",
              "       [0.9881033 , 0.36604375, 0.7926667 ],\n",
              "       [1.7220329 , 1.1477759 , 1.6806058 ],\n",
              "       [2.7412367 , 1.1191635 , 2.2493293 ],\n",
              "       [2.732238  , 2.1477323 , 2.8533442 ],\n",
              "       [2.3705883 , 0.40862948, 1.6329769 ]], dtype=float32)"
            ]
          },
          "metadata": {},
          "execution_count": 363
        }
      ]
    },
    {
      "cell_type": "code",
      "source": [
        "colors"
      ],
      "metadata": {
        "colab": {
          "base_uri": "https://localhost:8080/"
        },
        "id": "13JICGKi1PWS",
        "outputId": "bca32552-83a1-4c03-b84e-1a486305643f"
      },
      "execution_count": 362,
      "outputs": [
        {
          "output_type": "execute_result",
          "data": {
            "text/plain": [
              "[(0.06731536894926649, 0.0541394685425729, 0.0894182892773685),\n",
              " (0.6934042234392592, 0.5282910598446051, 0.902411729171618),\n",
              " (0.9976065470437305, 0.7634626923436372, 1.3014087907261),\n",
              " (0.9940312708864667, 0.09402180179555586, 0.7888091271330424),\n",
              " (0.3198574024864129, 0.11181500858798543, 0.3159812540673812),\n",
              " (0.5574366448292736, 0.3506099258913622, 0.6699410183085703),\n",
              " (0.8873615464702311, 0.34186973290570677, 0.8966516767504089),\n",
              " (0.8844486128921716, 0.6560655745942938, 1.137430535692502),\n",
              " (0.7673795234287581, 0.12482362811331527, 0.6509546857311861)]"
            ]
          },
          "metadata": {},
          "execution_count": 362
        }
      ]
    },
    {
      "cell_type": "code",
      "source": [
        "label_count"
      ],
      "metadata": {
        "colab": {
          "base_uri": "https://localhost:8080/"
        },
        "id": "WadSiCSIu03p",
        "outputId": "c3b9dc71-d3a2-4da8-9444-9401cd7e4487"
      },
      "execution_count": 299,
      "outputs": [
        {
          "output_type": "execute_result",
          "data": {
            "text/plain": [
              "0    341\n",
              "1    257\n",
              "3    165\n",
              "2    140\n",
              "6     35\n",
              "4     28\n",
              "5     23\n",
              "7     21\n",
              "8     14\n",
              "dtype: int64"
            ]
          },
          "metadata": {},
          "execution_count": 299
        }
      ]
    },
    {
      "cell_type": "code",
      "source": [
        "centers"
      ],
      "metadata": {
        "colab": {
          "base_uri": "https://localhost:8080/"
        },
        "id": "X_kKImK2xNSj",
        "outputId": "f4b59557-2ee8-4552-abf4-0be3bbc40475"
      },
      "execution_count": 350,
      "outputs": [
        {
          "output_type": "execute_result",
          "data": {
            "text/plain": [
              "array([[0.9971243 , 0.9970794 , 0.9965732 ],\n",
              "       [0.9935449 , 0.6041657 , 0.12263751],\n",
              "       [0.06728256, 0.06848693, 0.07061636],\n",
              "       [0.6939275 , 0.691432  , 0.68862754],\n",
              "       [0.76946783, 0.49733895, 0.15700278],\n",
              "       [0.88917303, 0.68474   , 0.43853366],\n",
              "       [0.8904202 , 0.87540615, 0.8563585 ],\n",
              "       [0.31970116, 0.24201682, 0.14584497],\n",
              "       [0.5672269 , 0.5145658 , 0.44789916]], dtype=float32)"
            ]
          },
          "metadata": {},
          "execution_count": 350
        }
      ]
    },
    {
      "cell_type": "code",
      "source": [
        "df_scaled"
      ],
      "metadata": {
        "colab": {
          "base_uri": "https://localhost:8080/",
          "height": 424
        },
        "id": "yH4D0dZbxfLq",
        "outputId": "319e875c-bdb4-4831-a421-fa798bdd40f7"
      },
      "execution_count": 351,
      "outputs": [
        {
          "output_type": "execute_result",
          "data": {
            "text/plain": [
              "      scaled_red  scaled_blue  scaled_green\n",
              "0       3.090709     2.509813      3.275254\n",
              "1       3.090709     2.509813      3.275254\n",
              "2       3.090709     2.509813      3.275254\n",
              "3       3.090709     2.509813      3.275254\n",
              "4       3.090709     2.509813      3.275254\n",
              "...          ...          ...           ...\n",
              "1019    3.090709     2.509813      3.275254\n",
              "1020    3.090709     2.509813      3.275254\n",
              "1021    3.090709     2.509813      3.275254\n",
              "1022    3.090709     2.509813      3.275254\n",
              "1023    3.090709     2.509813      3.275254\n",
              "\n",
              "[1024 rows x 3 columns]"
            ],
            "text/html": [
              "\n",
              "  <div id=\"df-e4ab34f4-30d4-425e-8f0d-98eabbb0d377\">\n",
              "    <div class=\"colab-df-container\">\n",
              "      <div>\n",
              "<style scoped>\n",
              "    .dataframe tbody tr th:only-of-type {\n",
              "        vertical-align: middle;\n",
              "    }\n",
              "\n",
              "    .dataframe tbody tr th {\n",
              "        vertical-align: top;\n",
              "    }\n",
              "\n",
              "    .dataframe thead th {\n",
              "        text-align: right;\n",
              "    }\n",
              "</style>\n",
              "<table border=\"1\" class=\"dataframe\">\n",
              "  <thead>\n",
              "    <tr style=\"text-align: right;\">\n",
              "      <th></th>\n",
              "      <th>scaled_red</th>\n",
              "      <th>scaled_blue</th>\n",
              "      <th>scaled_green</th>\n",
              "    </tr>\n",
              "  </thead>\n",
              "  <tbody>\n",
              "    <tr>\n",
              "      <th>0</th>\n",
              "      <td>3.090709</td>\n",
              "      <td>2.509813</td>\n",
              "      <td>3.275254</td>\n",
              "    </tr>\n",
              "    <tr>\n",
              "      <th>1</th>\n",
              "      <td>3.090709</td>\n",
              "      <td>2.509813</td>\n",
              "      <td>3.275254</td>\n",
              "    </tr>\n",
              "    <tr>\n",
              "      <th>2</th>\n",
              "      <td>3.090709</td>\n",
              "      <td>2.509813</td>\n",
              "      <td>3.275254</td>\n",
              "    </tr>\n",
              "    <tr>\n",
              "      <th>3</th>\n",
              "      <td>3.090709</td>\n",
              "      <td>2.509813</td>\n",
              "      <td>3.275254</td>\n",
              "    </tr>\n",
              "    <tr>\n",
              "      <th>4</th>\n",
              "      <td>3.090709</td>\n",
              "      <td>2.509813</td>\n",
              "      <td>3.275254</td>\n",
              "    </tr>\n",
              "    <tr>\n",
              "      <th>...</th>\n",
              "      <td>...</td>\n",
              "      <td>...</td>\n",
              "      <td>...</td>\n",
              "    </tr>\n",
              "    <tr>\n",
              "      <th>1019</th>\n",
              "      <td>3.090709</td>\n",
              "      <td>2.509813</td>\n",
              "      <td>3.275254</td>\n",
              "    </tr>\n",
              "    <tr>\n",
              "      <th>1020</th>\n",
              "      <td>3.090709</td>\n",
              "      <td>2.509813</td>\n",
              "      <td>3.275254</td>\n",
              "    </tr>\n",
              "    <tr>\n",
              "      <th>1021</th>\n",
              "      <td>3.090709</td>\n",
              "      <td>2.509813</td>\n",
              "      <td>3.275254</td>\n",
              "    </tr>\n",
              "    <tr>\n",
              "      <th>1022</th>\n",
              "      <td>3.090709</td>\n",
              "      <td>2.509813</td>\n",
              "      <td>3.275254</td>\n",
              "    </tr>\n",
              "    <tr>\n",
              "      <th>1023</th>\n",
              "      <td>3.090709</td>\n",
              "      <td>2.509813</td>\n",
              "      <td>3.275254</td>\n",
              "    </tr>\n",
              "  </tbody>\n",
              "</table>\n",
              "<p>1024 rows × 3 columns</p>\n",
              "</div>\n",
              "      <button class=\"colab-df-convert\" onclick=\"convertToInteractive('df-e4ab34f4-30d4-425e-8f0d-98eabbb0d377')\"\n",
              "              title=\"Convert this dataframe to an interactive table.\"\n",
              "              style=\"display:none;\">\n",
              "        \n",
              "  <svg xmlns=\"http://www.w3.org/2000/svg\" height=\"24px\"viewBox=\"0 0 24 24\"\n",
              "       width=\"24px\">\n",
              "    <path d=\"M0 0h24v24H0V0z\" fill=\"none\"/>\n",
              "    <path d=\"M18.56 5.44l.94 2.06.94-2.06 2.06-.94-2.06-.94-.94-2.06-.94 2.06-2.06.94zm-11 1L8.5 8.5l.94-2.06 2.06-.94-2.06-.94L8.5 2.5l-.94 2.06-2.06.94zm10 10l.94 2.06.94-2.06 2.06-.94-2.06-.94-.94-2.06-.94 2.06-2.06.94z\"/><path d=\"M17.41 7.96l-1.37-1.37c-.4-.4-.92-.59-1.43-.59-.52 0-1.04.2-1.43.59L10.3 9.45l-7.72 7.72c-.78.78-.78 2.05 0 2.83L4 21.41c.39.39.9.59 1.41.59.51 0 1.02-.2 1.41-.59l7.78-7.78 2.81-2.81c.8-.78.8-2.07 0-2.86zM5.41 20L4 18.59l7.72-7.72 1.47 1.35L5.41 20z\"/>\n",
              "  </svg>\n",
              "      </button>\n",
              "      \n",
              "  <style>\n",
              "    .colab-df-container {\n",
              "      display:flex;\n",
              "      flex-wrap:wrap;\n",
              "      gap: 12px;\n",
              "    }\n",
              "\n",
              "    .colab-df-convert {\n",
              "      background-color: #E8F0FE;\n",
              "      border: none;\n",
              "      border-radius: 50%;\n",
              "      cursor: pointer;\n",
              "      display: none;\n",
              "      fill: #1967D2;\n",
              "      height: 32px;\n",
              "      padding: 0 0 0 0;\n",
              "      width: 32px;\n",
              "    }\n",
              "\n",
              "    .colab-df-convert:hover {\n",
              "      background-color: #E2EBFA;\n",
              "      box-shadow: 0px 1px 2px rgba(60, 64, 67, 0.3), 0px 1px 3px 1px rgba(60, 64, 67, 0.15);\n",
              "      fill: #174EA6;\n",
              "    }\n",
              "\n",
              "    [theme=dark] .colab-df-convert {\n",
              "      background-color: #3B4455;\n",
              "      fill: #D2E3FC;\n",
              "    }\n",
              "\n",
              "    [theme=dark] .colab-df-convert:hover {\n",
              "      background-color: #434B5C;\n",
              "      box-shadow: 0px 1px 3px 1px rgba(0, 0, 0, 0.15);\n",
              "      filter: drop-shadow(0px 1px 2px rgba(0, 0, 0, 0.3));\n",
              "      fill: #FFFFFF;\n",
              "    }\n",
              "  </style>\n",
              "\n",
              "      <script>\n",
              "        const buttonEl =\n",
              "          document.querySelector('#df-e4ab34f4-30d4-425e-8f0d-98eabbb0d377 button.colab-df-convert');\n",
              "        buttonEl.style.display =\n",
              "          google.colab.kernel.accessAllowed ? 'block' : 'none';\n",
              "\n",
              "        async function convertToInteractive(key) {\n",
              "          const element = document.querySelector('#df-e4ab34f4-30d4-425e-8f0d-98eabbb0d377');\n",
              "          const dataTable =\n",
              "            await google.colab.kernel.invokeFunction('convertToInteractive',\n",
              "                                                     [key], {});\n",
              "          if (!dataTable) return;\n",
              "\n",
              "          const docLinkHtml = 'Like what you see? Visit the ' +\n",
              "            '<a target=\"_blank\" href=https://colab.research.google.com/notebooks/data_table.ipynb>data table notebook</a>'\n",
              "            + ' to learn more about interactive tables.';\n",
              "          element.innerHTML = '';\n",
              "          dataTable['output_type'] = 'display_data';\n",
              "          await google.colab.output.renderOutput(dataTable, element);\n",
              "          const docLink = document.createElement('div');\n",
              "          docLink.innerHTML = docLinkHtml;\n",
              "          element.appendChild(docLink);\n",
              "        }\n",
              "      </script>\n",
              "    </div>\n",
              "  </div>\n",
              "  "
            ]
          },
          "metadata": {},
          "execution_count": 351
        }
      ]
    },
    {
      "cell_type": "code",
      "source": [
        "label_count[1:]"
      ],
      "metadata": {
        "colab": {
          "base_uri": "https://localhost:8080/"
        },
        "id": "C22ub6AxwJ26",
        "outputId": "f298d02b-15c3-4c1f-9a94-4a5d43a31c02"
      },
      "execution_count": 295,
      "outputs": [
        {
          "output_type": "execute_result",
          "data": {
            "text/plain": [
              "1    257\n",
              "3    165\n",
              "2    140\n",
              "6     35\n",
              "4     28\n",
              "5     23\n",
              "7     21\n",
              "8     14\n",
              "dtype: int64"
            ]
          },
          "metadata": {},
          "execution_count": 295
        }
      ]
    },
    {
      "cell_type": "code",
      "source": [
        "df.loc[250,]"
      ],
      "metadata": {
        "colab": {
          "base_uri": "https://localhost:8080/"
        },
        "id": "vU3aEIeGgvyA",
        "outputId": "f5d646c0-bb3a-41e2-9715-66d10f74b65c"
      },
      "execution_count": 330,
      "outputs": [
        {
          "output_type": "execute_result",
          "data": {
            "text/plain": [
              "red      0.478431\n",
              "blue     0.098039\n",
              "green    0.309804\n",
              "Name: 250, dtype: float32"
            ]
          },
          "metadata": {},
          "execution_count": 330
        }
      ]
    },
    {
      "cell_type": "code",
      "source": [
        "from mpl_toolkits.mplot3d import Axes3D\n",
        "fig = plt.figure()\n",
        "ax = Axes3D(fig)\n",
        "ax.scatter(r, g, b)\n",
        "plt.show()"
      ],
      "metadata": {
        "colab": {
          "base_uri": "https://localhost:8080/",
          "height": 319
        },
        "id": "2RMR7LqN6XQO",
        "outputId": "1cd138c6-dbd4-453a-97ac-1b41f81a2455"
      },
      "execution_count": 331,
      "outputs": [
        {
          "output_type": "display_data",
          "data": {
            "text/plain": [
              "<Figure size 432x288 with 1 Axes>"
            ],
            "image/png": "[encoded data removed]"
          },
          "metadata": {
            "needs_background": "light"
          }
        }
      ]
    },
    {
      "cell_type": "markdown",
      "source": [
        "Scipy, not working"
      ],
      "metadata": {
        "id": "pJQLit5qRI37"
      }
    },
    {
      "cell_type": "code",
      "source": [
        "cluster_centers, distortion = kmeans(df[['scaled_red', 'scaled_green', 'scaled_blue']], 9)"
      ],
      "metadata": {
        "id": "H77hBpQCFGTQ"
      },
      "execution_count": 98,
      "outputs": []
    },
    {
      "cell_type": "code",
      "source": [
        "print(cluster_centers)"
      ],
      "metadata": {
        "colab": {
          "base_uri": "https://localhost:8080/"
        },
        "id": "Pt53IFikFGVf",
        "outputId": "7afdffd0-7a62-487c-dadc-d4401d0ef536"
      },
      "execution_count": 99,
      "outputs": [
        {
          "output_type": "stream",
          "name": "stdout",
          "text": [
            "[[24.229984    2.4771202   2.6291196 ]\n",
            " [22.096031    0.345805    0.49749327]\n",
            " [23.92156     2.1754675   2.3248355 ]\n",
            " [22.396439    0.6506235   0.8013856 ]\n",
            " [22.711113    0.9596571   1.1099099 ]\n",
            " [23.078775    1.3319868   1.4825549 ]\n",
            " [21.826525    0.07458034  0.22555941]\n",
            " [23.55537     1.8047521   1.9562579 ]\n",
            " [24.485064    2.73444     2.8855076 ]]\n"
          ]
        }
      ]
    },
    {
      "cell_type": "code",
      "source": [
        "colors = []\n",
        "r_std, g_std, b_std = df[['red', 'green', 'blue']].std()\n",
        "for cluster_center in cluster_centers:\n",
        "  scaled_r, scaled_g, scaled_b = cluster_center\n",
        "  colors.append((\n",
        "  scaled_r * r_std,\n",
        "  scaled_g * g_std,\n",
        "  scaled_b * b_std\n",
        "  ))\n",
        "plt.imshow([colors])\n",
        "plt.show()"
      ],
      "metadata": {
        "colab": {
          "base_uri": "https://localhost:8080/",
          "height": 89
        },
        "id": "nR1xKOE7FGX3",
        "outputId": "8e5564f4-c8ce-4aa2-d30d-6d278cddbfa3"
      },
      "execution_count": 100,
      "outputs": [
        {
          "output_type": "display_data",
          "data": {
            "text/plain": [
              "<Figure size 432x288 with 1 Axes>"
            ],
            "image/png": "[encoded data removed]"
          },
          "metadata": {
            "needs_background": "light"
          }
        }
      ]
    },
    {
      "cell_type": "code",
      "source": [],
      "metadata": {
        "colab": {
          "base_uri": "https://localhost:8080/",
          "height": 106
        },
        "id": "B7NfpzVoO2Sq",
        "outputId": "2ef732d3-ff1d-4b35-d652-a58b46a230ca"
      },
      "execution_count": 154,
      "outputs": [
        {
          "output_type": "execute_result",
          "data": {
            "text/plain": [
              "<matplotlib.image.AxesImage at 0x7f48bbd2ce20>"
            ]
          },
          "metadata": {},
          "execution_count": 154
        },
        {
          "output_type": "display_data",
          "data": {
            "text/plain": [
              "<Figure size 432x288 with 1 Axes>"
            ],
            "image/png": "[encoded data removed]"
          },
          "metadata": {
            "needs_background": "light"
          }
        }
      ]
    },
    {
      "cell_type": "code",
      "source": [
        "colors"
      ],
      "metadata": {
        "colab": {
          "base_uri": "https://localhost:8080/"
        },
        "id": "autWJRLpMncc",
        "outputId": "2070bf00-98b5-4720-8653-1a7b3711d093"
      },
      "execution_count": 95,
      "outputs": [
        {
          "output_type": "execute_result",
          "data": {
            "text/plain": [
              "[(0.0038655392253293354, 0.003406336474808304, 0.003433988397315137),\n",
              " (0.0035582395586412, 0.000682421844194376, 0.0008504278520323957)]"
            ]
          },
          "metadata": {},
          "execution_count": 95
        }
      ]
    },
    {
      "cell_type": "code",
      "source": [
        "df[['red', 'green', 'blue']].std()"
      ],
      "metadata": {
        "colab": {
          "base_uri": "https://localhost:8080/"
        },
        "id": "ONESLgepGB3I",
        "outputId": "29f9d13d-66fd-4bb3-ed9d-6cc5d1e01320"
      },
      "execution_count": 97,
      "outputs": [
        {
          "output_type": "execute_result",
          "data": {
            "text/plain": [
              "red      0.040816\n",
              "green    0.362088\n",
              "blue     0.343405\n",
              "dtype: float32"
            ]
          },
          "metadata": {},
          "execution_count": 97
        }
      ]
    },
    {
      "cell_type": "code",
      "source": [],
      "metadata": {
        "id": "OvOyxEn-FGaQ"
      },
      "execution_count": null,
      "outputs": []
    },
    {
      "cell_type": "code",
      "source": [],
      "metadata": {
        "id": "T1x2Owye8u62"
      },
      "execution_count": null,
      "outputs": []
    },
    {
      "cell_type": "code",
      "source": [],
      "metadata": {
        "id": "-ePWLCtG8u9W"
      },
      "execution_count": null,
      "outputs": []
    },
    {
      "cell_type": "code",
      "source": [],
      "metadata": {
        "id": "x1Iniep68u_t"
      },
      "execution_count": null,
      "outputs": []
    },
    {
      "cell_type": "code",
      "source": [],
      "metadata": {
        "id": "bIzR13IR8vEG"
      },
      "execution_count": null,
      "outputs": []
    },
    {
      "cell_type": "code",
      "source": [],
      "metadata": {
        "id": "3qoIuTwi8vGm"
      },
      "execution_count": null,
      "outputs": []
    },
    {
      "cell_type": "code",
      "source": [],
      "metadata": {
        "id": "HgULv-7e8vJP"
      },
      "execution_count": null,
      "outputs": []
    }
  ]
}